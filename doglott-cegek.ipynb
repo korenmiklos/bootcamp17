{
 "cells": [
  {
   "cell_type": "code",
   "execution_count": 1,
   "metadata": {
    "collapsed": true
   },
   "outputs": [],
   "source": [
    "import pandas as pd"
   ]
  },
  {
   "cell_type": "code",
   "execution_count": 2,
   "metadata": {
    "collapsed": true
   },
   "outputs": [],
   "source": [
    "r2 = pd.read_csv('input/rovat_2.csv', na_filter=False, dtype=object, usecols=['ceg_id', 'nev'])"
   ]
  },
  {
   "cell_type": "code",
   "execution_count": 13,
   "metadata": {},
   "outputs": [
    {
     "data": {
      "text/plain": [
       "12     végelszámolás alatt\n",
       "17     végelszámolás alatt\n",
       "22     \"felszámolás alatt\"\n",
       "30     \"felszámolás alatt\"\n",
       "36    ég felszámolás alatt\n",
       "Name: nev, dtype: object"
      ]
     },
     "execution_count": 13,
     "metadata": {},
     "output_type": "execute_result"
    }
   ],
   "source": [
    "r2[r2.nev.str.lower().str.contains('alatt')].nev.str.slice(-20).head()"
   ]
  },
  {
   "cell_type": "code",
   "execution_count": 4,
   "metadata": {
    "collapsed": true
   },
   "outputs": [],
   "source": [
    "r2['doglott'] = r2.nev.str.lower().str.contains('alatt')"
   ]
  },
  {
   "cell_type": "code",
   "execution_count": 5,
   "metadata": {},
   "outputs": [],
   "source": [
    "g_cegek = r2.groupby(by='ceg_id')"
   ]
  },
  {
   "cell_type": "code",
   "execution_count": 6,
   "metadata": {},
   "outputs": [],
   "source": [
    "doglott_cegek_mset = g_cegek.filter(lambda x: x.doglott.any())"
   ]
  },
  {
   "cell_type": "code",
   "execution_count": 7,
   "metadata": {},
   "outputs": [],
   "source": [
    "doglott_cegek = doglott_cegek_mset.ceg_id.drop_duplicates()\n",
    "cegek = r2.ceg_id.drop_duplicates()"
   ]
  },
  {
   "cell_type": "code",
   "execution_count": 8,
   "metadata": {},
   "outputs": [],
   "source": [
    "def count_by_mc(ceg_ids):\n",
    "    mc = ceg_ids.str.slice(0, 2)\n",
    "    return mc.value_counts().sort_index()"
   ]
  },
  {
   "cell_type": "code",
   "execution_count": 9,
   "metadata": {},
   "outputs": [
    {
     "data": {
      "text/plain": [
       "01     69\n",
       "03    101\n",
       "13    125\n",
       "18     30\n",
       "Name: ceg_id, dtype: int64"
      ]
     },
     "execution_count": 9,
     "metadata": {},
     "output_type": "execute_result"
    }
   ],
   "source": [
    "count_by_mc(doglott_cegek)"
   ]
  },
  {
   "cell_type": "code",
   "execution_count": 10,
   "metadata": {},
   "outputs": [
    {
     "data": {
      "text/plain": [
       "01    548\n",
       "03    476\n",
       "13    677\n",
       "18    199\n",
       "Name: ceg_id, dtype: int64"
      ]
     },
     "execution_count": 10,
     "metadata": {},
     "output_type": "execute_result"
    }
   ],
   "source": [
    "count_by_mc(cegek)"
   ]
  },
  {
   "cell_type": "code",
   "execution_count": 11,
   "metadata": {},
   "outputs": [
    {
     "data": {
      "text/html": [
       "<div>\n",
       "<style>\n",
       "    .dataframe thead tr:only-child th {\n",
       "        text-align: right;\n",
       "    }\n",
       "\n",
       "    .dataframe thead th {\n",
       "        text-align: left;\n",
       "    }\n",
       "\n",
       "    .dataframe tbody tr th {\n",
       "        vertical-align: top;\n",
       "    }\n",
       "</style>\n",
       "<table border=\"1\" class=\"dataframe\">\n",
       "  <thead>\n",
       "    <tr style=\"text-align: right;\">\n",
       "      <th></th>\n",
       "      <th>bs</th>\n",
       "      <th>cegek</th>\n",
       "      <th>doglott</th>\n",
       "      <th>arany</th>\n",
       "    </tr>\n",
       "  </thead>\n",
       "  <tbody>\n",
       "    <tr>\n",
       "      <th>0</th>\n",
       "      <td>01</td>\n",
       "      <td>548</td>\n",
       "      <td>69</td>\n",
       "      <td>0.125912</td>\n",
       "    </tr>\n",
       "    <tr>\n",
       "      <th>1</th>\n",
       "      <td>03</td>\n",
       "      <td>476</td>\n",
       "      <td>101</td>\n",
       "      <td>0.212185</td>\n",
       "    </tr>\n",
       "    <tr>\n",
       "      <th>2</th>\n",
       "      <td>13</td>\n",
       "      <td>677</td>\n",
       "      <td>125</td>\n",
       "      <td>0.184638</td>\n",
       "    </tr>\n",
       "    <tr>\n",
       "      <th>3</th>\n",
       "      <td>18</td>\n",
       "      <td>199</td>\n",
       "      <td>30</td>\n",
       "      <td>0.150754</td>\n",
       "    </tr>\n",
       "  </tbody>\n",
       "</table>\n",
       "</div>"
      ],
      "text/plain": [
       "   bs  cegek  doglott     arany\n",
       "0  01    548       69  0.125912\n",
       "1  03    476      101  0.212185\n",
       "2  13    677      125  0.184638\n",
       "3  18    199       30  0.150754"
      ]
     },
     "execution_count": 11,
     "metadata": {},
     "output_type": "execute_result"
    }
   ],
   "source": [
    "c, d = count_by_mc(cegek).align(count_by_mc(doglott_cegek), fill_value=0)\n",
    "raw_result = pd.DataFrame(dict(cegek=c, doglott=d, arany=d/c)).reset_index().rename(columns={'index': 'bs'})[['bs', 'cegek', 'doglott', 'arany']]\n",
    "raw_result"
   ]
  },
  {
   "cell_type": "code",
   "execution_count": 12,
   "metadata": {},
   "outputs": [
    {
     "data": {
      "text/html": [
       "<div>\n",
       "<style>\n",
       "    .dataframe thead tr:only-child th {\n",
       "        text-align: right;\n",
       "    }\n",
       "\n",
       "    .dataframe thead th {\n",
       "        text-align: left;\n",
       "    }\n",
       "\n",
       "    .dataframe tbody tr th {\n",
       "        vertical-align: top;\n",
       "    }\n",
       "</style>\n",
       "<table border=\"1\" class=\"dataframe\">\n",
       "  <thead>\n",
       "    <tr style=\"text-align: right;\">\n",
       "      <th></th>\n",
       "      <th>megye</th>\n",
       "      <th>cegek</th>\n",
       "      <th>doglott</th>\n",
       "      <th>arany</th>\n",
       "    </tr>\n",
       "  </thead>\n",
       "  <tbody>\n",
       "    <tr>\n",
       "      <th>0</th>\n",
       "      <td>Főváros</td>\n",
       "      <td>548</td>\n",
       "      <td>69</td>\n",
       "      <td>0.125912</td>\n",
       "    </tr>\n",
       "    <tr>\n",
       "      <th>1</th>\n",
       "      <td>Bács-Kiskun</td>\n",
       "      <td>476</td>\n",
       "      <td>101</td>\n",
       "      <td>0.212185</td>\n",
       "    </tr>\n",
       "    <tr>\n",
       "      <th>2</th>\n",
       "      <td>Pest</td>\n",
       "      <td>677</td>\n",
       "      <td>125</td>\n",
       "      <td>0.184638</td>\n",
       "    </tr>\n",
       "    <tr>\n",
       "      <th>3</th>\n",
       "      <td>Vas</td>\n",
       "      <td>199</td>\n",
       "      <td>30</td>\n",
       "      <td>0.150754</td>\n",
       "    </tr>\n",
       "  </tbody>\n",
       "</table>\n",
       "</div>"
      ],
      "text/plain": [
       "         megye  cegek  doglott     arany\n",
       "0      Főváros    548       69  0.125912\n",
       "1  Bács-Kiskun    476      101  0.212185\n",
       "2         Pest    677      125  0.184638\n",
       "3          Vas    199       30  0.150754"
      ]
     },
     "execution_count": 12,
     "metadata": {},
     "output_type": "execute_result"
    }
   ],
   "source": [
    "pd.merge(raw_result, pd.read_csv('megye.csv', dtype=object))[['megye', 'cegek', 'doglott', 'arany']]"
   ]
  }
 ],
 "metadata": {
  "kernelspec": {
   "display_name": "Python 3",
   "language": "python",
   "name": "python3"
  },
  "language_info": {
   "codemirror_mode": {
    "name": "ipython",
    "version": 3
   },
   "file_extension": ".py",
   "mimetype": "text/x-python",
   "name": "python",
   "nbconvert_exporter": "python",
   "pygments_lexer": "ipython3",
   "version": "3.6.1"
  }
 },
 "nbformat": 4,
 "nbformat_minor": 2
}
